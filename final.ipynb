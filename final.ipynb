{
  "nbformat": 4,
  "nbformat_minor": 0,
  "metadata": {
    "colab": {
      "name": "test_2.ipynb",
      "provenance": [],
      "collapsed_sections": []
    },
    "kernelspec": {
      "name": "python3",
      "display_name": "Python 3"
    },
    "language_info": {
      "name": "python"
    },
    "accelerator": "GPU",
    "gpuClass": "standard"
  },
  "cells": [
    {
      "cell_type": "code",
      "source": [
        "import cv2 as cv\n",
        "import pandas as pd\n",
        "import numpy as np\n",
        "import matplotlib.pyplot as plt\n",
        "from tqdm import tqdm\n",
        "\n",
        "import tensorflow as tf\n",
        "from tensorflow.keras.layers import Conv2D,MaxPooling2D,Dropout,Dense,Flatten\n",
        "from tensorflow.keras.regularizers import l2\n",
        "\n",
        "\n",
        "from sklearn.metrics import accuracy_score"
      ],
      "metadata": {
        "id": "tipVoarSD-uM"
      },
      "execution_count": 117,
      "outputs": []
    },
    {
      "cell_type": "code",
      "source": [
        "from google.colab import drive\n",
        "drive.mount('/content/drive')"
      ],
      "metadata": {
        "colab": {
          "base_uri": "https://localhost:8080/"
        },
        "id": "t1FeR_Zp9EDa",
        "outputId": "3eea5a17-4112-4bd4-f387-1eb9fc2bba1a"
      },
      "execution_count": 118,
      "outputs": [
        {
          "output_type": "stream",
          "name": "stdout",
          "text": [
            "Drive already mounted at /content/drive; to attempt to forcibly remount, call drive.mount(\"/content/drive\", force_remount=True).\n"
          ]
        }
      ]
    },
    {
      "cell_type": "code",
      "source": [
        "dateset=pd.read_csv('drive/MyDrive/kaggle/icml_face_data.csv')"
      ],
      "metadata": {
        "id": "-DLKB5LpD-rx"
      },
      "execution_count": 119,
      "outputs": []
    },
    {
      "cell_type": "code",
      "source": [
        "dateset"
      ],
      "metadata": {
        "colab": {
          "base_uri": "https://localhost:8080/",
          "height": 424
        },
        "id": "UOq5MVt2FT-s",
        "outputId": "0c54071e-c035-4c62-86f5-ee1ad1144b12"
      },
      "execution_count": 120,
      "outputs": [
        {
          "output_type": "execute_result",
          "data": {
            "text/plain": [
              "       emotion        Usage                                             pixels\n",
              "0            0     Training  70 80 82 72 58 58 60 63 54 58 60 48 89 115 121...\n",
              "1            0     Training  151 150 147 155 148 133 111 140 170 174 182 15...\n",
              "2            2     Training  231 212 156 164 174 138 161 173 182 200 106 38...\n",
              "3            4     Training  24 32 36 30 32 23 19 20 30 41 21 22 32 34 21 1...\n",
              "4            6     Training  4 0 0 0 0 0 0 0 0 0 0 0 3 15 23 28 48 50 58 84...\n",
              "...        ...          ...                                                ...\n",
              "35882        6  PrivateTest  50 36 17 22 23 29 33 39 34 37 37 37 39 43 48 5...\n",
              "35883        3  PrivateTest  178 174 172 173 181 188 191 194 196 199 200 20...\n",
              "35884        0  PrivateTest  17 17 16 23 28 22 19 17 25 26 20 24 31 19 27 9...\n",
              "35885        3  PrivateTest  30 28 28 29 31 30 42 68 79 81 77 67 67 71 63 6...\n",
              "35886        2  PrivateTest  19 13 14 12 13 16 21 33 50 57 71 84 97 108 122...\n",
              "\n",
              "[35887 rows x 3 columns]"
            ],
            "text/html": [
              "\n",
              "  <div id=\"df-48fcdf94-4677-417c-ad42-6412da043afb\">\n",
              "    <div class=\"colab-df-container\">\n",
              "      <div>\n",
              "<style scoped>\n",
              "    .dataframe tbody tr th:only-of-type {\n",
              "        vertical-align: middle;\n",
              "    }\n",
              "\n",
              "    .dataframe tbody tr th {\n",
              "        vertical-align: top;\n",
              "    }\n",
              "\n",
              "    .dataframe thead th {\n",
              "        text-align: right;\n",
              "    }\n",
              "</style>\n",
              "<table border=\"1\" class=\"dataframe\">\n",
              "  <thead>\n",
              "    <tr style=\"text-align: right;\">\n",
              "      <th></th>\n",
              "      <th>emotion</th>\n",
              "      <th>Usage</th>\n",
              "      <th>pixels</th>\n",
              "    </tr>\n",
              "  </thead>\n",
              "  <tbody>\n",
              "    <tr>\n",
              "      <th>0</th>\n",
              "      <td>0</td>\n",
              "      <td>Training</td>\n",
              "      <td>70 80 82 72 58 58 60 63 54 58 60 48 89 115 121...</td>\n",
              "    </tr>\n",
              "    <tr>\n",
              "      <th>1</th>\n",
              "      <td>0</td>\n",
              "      <td>Training</td>\n",
              "      <td>151 150 147 155 148 133 111 140 170 174 182 15...</td>\n",
              "    </tr>\n",
              "    <tr>\n",
              "      <th>2</th>\n",
              "      <td>2</td>\n",
              "      <td>Training</td>\n",
              "      <td>231 212 156 164 174 138 161 173 182 200 106 38...</td>\n",
              "    </tr>\n",
              "    <tr>\n",
              "      <th>3</th>\n",
              "      <td>4</td>\n",
              "      <td>Training</td>\n",
              "      <td>24 32 36 30 32 23 19 20 30 41 21 22 32 34 21 1...</td>\n",
              "    </tr>\n",
              "    <tr>\n",
              "      <th>4</th>\n",
              "      <td>6</td>\n",
              "      <td>Training</td>\n",
              "      <td>4 0 0 0 0 0 0 0 0 0 0 0 3 15 23 28 48 50 58 84...</td>\n",
              "    </tr>\n",
              "    <tr>\n",
              "      <th>...</th>\n",
              "      <td>...</td>\n",
              "      <td>...</td>\n",
              "      <td>...</td>\n",
              "    </tr>\n",
              "    <tr>\n",
              "      <th>35882</th>\n",
              "      <td>6</td>\n",
              "      <td>PrivateTest</td>\n",
              "      <td>50 36 17 22 23 29 33 39 34 37 37 37 39 43 48 5...</td>\n",
              "    </tr>\n",
              "    <tr>\n",
              "      <th>35883</th>\n",
              "      <td>3</td>\n",
              "      <td>PrivateTest</td>\n",
              "      <td>178 174 172 173 181 188 191 194 196 199 200 20...</td>\n",
              "    </tr>\n",
              "    <tr>\n",
              "      <th>35884</th>\n",
              "      <td>0</td>\n",
              "      <td>PrivateTest</td>\n",
              "      <td>17 17 16 23 28 22 19 17 25 26 20 24 31 19 27 9...</td>\n",
              "    </tr>\n",
              "    <tr>\n",
              "      <th>35885</th>\n",
              "      <td>3</td>\n",
              "      <td>PrivateTest</td>\n",
              "      <td>30 28 28 29 31 30 42 68 79 81 77 67 67 71 63 6...</td>\n",
              "    </tr>\n",
              "    <tr>\n",
              "      <th>35886</th>\n",
              "      <td>2</td>\n",
              "      <td>PrivateTest</td>\n",
              "      <td>19 13 14 12 13 16 21 33 50 57 71 84 97 108 122...</td>\n",
              "    </tr>\n",
              "  </tbody>\n",
              "</table>\n",
              "<p>35887 rows × 3 columns</p>\n",
              "</div>\n",
              "      <button class=\"colab-df-convert\" onclick=\"convertToInteractive('df-48fcdf94-4677-417c-ad42-6412da043afb')\"\n",
              "              title=\"Convert this dataframe to an interactive table.\"\n",
              "              style=\"display:none;\">\n",
              "        \n",
              "  <svg xmlns=\"http://www.w3.org/2000/svg\" height=\"24px\"viewBox=\"0 0 24 24\"\n",
              "       width=\"24px\">\n",
              "    <path d=\"M0 0h24v24H0V0z\" fill=\"none\"/>\n",
              "    <path d=\"M18.56 5.44l.94 2.06.94-2.06 2.06-.94-2.06-.94-.94-2.06-.94 2.06-2.06.94zm-11 1L8.5 8.5l.94-2.06 2.06-.94-2.06-.94L8.5 2.5l-.94 2.06-2.06.94zm10 10l.94 2.06.94-2.06 2.06-.94-2.06-.94-.94-2.06-.94 2.06-2.06.94z\"/><path d=\"M17.41 7.96l-1.37-1.37c-.4-.4-.92-.59-1.43-.59-.52 0-1.04.2-1.43.59L10.3 9.45l-7.72 7.72c-.78.78-.78 2.05 0 2.83L4 21.41c.39.39.9.59 1.41.59.51 0 1.02-.2 1.41-.59l7.78-7.78 2.81-2.81c.8-.78.8-2.07 0-2.86zM5.41 20L4 18.59l7.72-7.72 1.47 1.35L5.41 20z\"/>\n",
              "  </svg>\n",
              "      </button>\n",
              "      \n",
              "  <style>\n",
              "    .colab-df-container {\n",
              "      display:flex;\n",
              "      flex-wrap:wrap;\n",
              "      gap: 12px;\n",
              "    }\n",
              "\n",
              "    .colab-df-convert {\n",
              "      background-color: #E8F0FE;\n",
              "      border: none;\n",
              "      border-radius: 50%;\n",
              "      cursor: pointer;\n",
              "      display: none;\n",
              "      fill: #1967D2;\n",
              "      height: 32px;\n",
              "      padding: 0 0 0 0;\n",
              "      width: 32px;\n",
              "    }\n",
              "\n",
              "    .colab-df-convert:hover {\n",
              "      background-color: #E2EBFA;\n",
              "      box-shadow: 0px 1px 2px rgba(60, 64, 67, 0.3), 0px 1px 3px 1px rgba(60, 64, 67, 0.15);\n",
              "      fill: #174EA6;\n",
              "    }\n",
              "\n",
              "    [theme=dark] .colab-df-convert {\n",
              "      background-color: #3B4455;\n",
              "      fill: #D2E3FC;\n",
              "    }\n",
              "\n",
              "    [theme=dark] .colab-df-convert:hover {\n",
              "      background-color: #434B5C;\n",
              "      box-shadow: 0px 1px 3px 1px rgba(0, 0, 0, 0.15);\n",
              "      filter: drop-shadow(0px 1px 2px rgba(0, 0, 0, 0.3));\n",
              "      fill: #FFFFFF;\n",
              "    }\n",
              "  </style>\n",
              "\n",
              "      <script>\n",
              "        const buttonEl =\n",
              "          document.querySelector('#df-48fcdf94-4677-417c-ad42-6412da043afb button.colab-df-convert');\n",
              "        buttonEl.style.display =\n",
              "          google.colab.kernel.accessAllowed ? 'block' : 'none';\n",
              "\n",
              "        async function convertToInteractive(key) {\n",
              "          const element = document.querySelector('#df-48fcdf94-4677-417c-ad42-6412da043afb');\n",
              "          const dataTable =\n",
              "            await google.colab.kernel.invokeFunction('convertToInteractive',\n",
              "                                                     [key], {});\n",
              "          if (!dataTable) return;\n",
              "\n",
              "          const docLinkHtml = 'Like what you see? Visit the ' +\n",
              "            '<a target=\"_blank\" href=https://colab.research.google.com/notebooks/data_table.ipynb>data table notebook</a>'\n",
              "            + ' to learn more about interactive tables.';\n",
              "          element.innerHTML = '';\n",
              "          dataTable['output_type'] = 'display_data';\n",
              "          await google.colab.output.renderOutput(dataTable, element);\n",
              "          const docLink = document.createElement('div');\n",
              "          docLink.innerHTML = docLinkHtml;\n",
              "          element.appendChild(docLink);\n",
              "        }\n",
              "      </script>\n",
              "    </div>\n",
              "  </div>\n",
              "  "
            ]
          },
          "metadata": {},
          "execution_count": 120
        }
      ]
    },
    {
      "cell_type": "code",
      "source": [
        "cols=[]\n",
        "for col in dateset.columns:\n",
        "    cols.append(col.strip())\n",
        "dateset.columns = cols"
      ],
      "metadata": {
        "id": "xdJr2iHKD-pM"
      },
      "execution_count": 121,
      "outputs": []
    },
    {
      "cell_type": "code",
      "source": [
        "dateset.columns"
      ],
      "metadata": {
        "colab": {
          "base_uri": "https://localhost:8080/"
        },
        "id": "AP0OPPxKE6f8",
        "outputId": "185bfe04-4ef6-4cb9-a1aa-0f8cfb95a4c5"
      },
      "execution_count": 122,
      "outputs": [
        {
          "output_type": "execute_result",
          "data": {
            "text/plain": [
              "Index(['emotion', 'Usage', 'pixels'], dtype='object')"
            ]
          },
          "metadata": {},
          "execution_count": 122
        }
      ]
    },
    {
      "cell_type": "code",
      "source": [
        "trian = dateset.loc[dateset['Usage'] == 'Training',:].reset_index(drop=True)\n",
        "trian.drop('Usage',axis=1,inplace=True)\n",
        "test = dateset.loc[dateset['Usage'] != 'Training'].reset_index(drop=True)\n",
        "test.drop('Usage',axis=1,inplace=True)"
      ],
      "metadata": {
        "id": "cTnaiWaKD-ms"
      },
      "execution_count": 123,
      "outputs": []
    },
    {
      "cell_type": "code",
      "source": [
        "def emot(number):\n",
        "    mapping={0:'Angry',\n",
        "             1:'Disgust',\n",
        "             2:'Fear',\n",
        "             3:'Happy',\n",
        "             4:'Sad',\n",
        "             5:'Surprise',\n",
        "             6:'Neutral'}\n",
        "    return mapping[number]\n",
        "\n",
        "def pixel_to_img(number):\n",
        "    vec = trian.loc[number,'pixels']\n",
        "    emo = trian.loc[number,'emotion']\n",
        "    vec=np.array(vec.split()).astype(int).reshape(48,48)\n",
        "    return vec,emo\n",
        "\n",
        "def draw_im(vec,emo):\n",
        "    plt.figure(figsize=(4,4))\n",
        "    plt.imshow(vec,cmap=\"gray\")\n",
        "    plt.title(emot(emo))\n",
        "    plt.show()"
      ],
      "metadata": {
        "id": "2LLSfSCnD-f8"
      },
      "execution_count": 124,
      "outputs": []
    },
    {
      "cell_type": "code",
      "source": [
        "def split_XY(df):\n",
        "    X=[]\n",
        "    Y=[]\n",
        "    for i in tqdm(range(len(df))):\n",
        "        X.append(pixel_to_img(i)[0].reshape(48,48,1))\n",
        "        Y.append(pixel_to_img(i)[1])\n",
        "    X = np.array(X)\n",
        "    Y = np.array(Y)\n",
        "    return X,Y\n",
        "\n",
        "train_x,train_y=split_XY(trian)\n",
        "vali_x,vali_y = split_XY(test)"
      ],
      "metadata": {
        "colab": {
          "base_uri": "https://localhost:8080/"
        },
        "id": "sqt69hO7D-Zx",
        "outputId": "edb7b465-d3ab-438a-f33e-e8c150aaf908"
      },
      "execution_count": 125,
      "outputs": [
        {
          "output_type": "stream",
          "name": "stderr",
          "text": [
            "100%|██████████| 28709/28709 [01:18<00:00, 364.35it/s]\n",
            "100%|██████████| 7178/7178 [00:18<00:00, 380.35it/s]\n"
          ]
        }
      ]
    },
    {
      "cell_type": "code",
      "source": [
        "train_x = train_x/255\n",
        "vali_x = vali_x/255"
      ],
      "metadata": {
        "id": "9pBAxC1aEMx2"
      },
      "execution_count": 126,
      "outputs": []
    },
    {
      "cell_type": "code",
      "source": [
        "CNN_model = tf.keras.Sequential([\n",
        "    \n",
        "    #48*48*1\n",
        "    Conv2D(filters=32,kernel_size=(3,3),strides=(1,1),activation='relu',padding='same',input_shape=(48,48,1)),\n",
        "    Dropout(0.2),\n",
        "    Conv2D(filters=64,kernel_size=(3,3),strides=(1,1),activation='relu',padding='same'),\n",
        "    Dropout(0.2),\n",
        "    Conv2D(filters=64,kernel_size=(3,3),strides=(1,1),activation='relu',padding='same'),\n",
        "    Dropout(0.2),\n",
        "    MaxPooling2D(pool_size=(2,2),strides=(2,2)),\n",
        "    \n",
        "    #24*24*64\n",
        "    Conv2D(filters=64,kernel_size=(3,3),strides=(1,1),activation='relu',padding='same'),\n",
        "    Dropout(0.2),\n",
        "    Conv2D(filters=128,kernel_size=(3,3),strides=(1,1),activation='relu',padding='same'),\n",
        "    Dropout(0.2),\n",
        "    Conv2D(filters=128,kernel_size=(3,3),strides=(1,1),activation='relu',padding='same'),\n",
        "    Dropout(0.2),\n",
        "    MaxPooling2D(pool_size=(2,2),strides=(2,2)),\n",
        "    \n",
        "    #12*12*128\n",
        "    Conv2D(filters=128,kernel_size=(3,3),strides=(1,1),activation='relu',padding='same'),\n",
        "    Dropout(0.2),\n",
        "    Conv2D(filters=256,kernel_size=(3,3),strides=(1,1),activation='relu',padding='same'),\n",
        "    Dropout(0.2),\n",
        "    Conv2D(filters=256,kernel_size=(3,3),strides=(1,1),activation='relu',padding='same'),\n",
        "    Dropout(0.2),\n",
        "    MaxPooling2D(pool_size=(2,2),strides=(2,2)),\n",
        "    \n",
        "    #6*6*256\n",
        "    Flatten(), #6*6*256\n",
        "    \n",
        "    Dense(units=256,activation='relu'),\n",
        "    Dense(units=128,activation='relu'),\n",
        "    Dense(units=64,activation='relu'),\n",
        "    \n",
        "    Dense(units=7,activation='softmax')\n",
        "\n",
        "])\n",
        "CNN_model.summary()"
      ],
      "metadata": {
        "colab": {
          "base_uri": "https://localhost:8080/"
        },
        "id": "bezRR_F1EMvb",
        "outputId": "dd0afa07-a462-4454-da9f-3fcef560f977"
      },
      "execution_count": 127,
      "outputs": [
        {
          "output_type": "stream",
          "name": "stdout",
          "text": [
            "Model: \"sequential_1\"\n",
            "_________________________________________________________________\n",
            " Layer (type)                Output Shape              Param #   \n",
            "=================================================================\n",
            " conv2d_9 (Conv2D)           (None, 48, 48, 32)        320       \n",
            "                                                                 \n",
            " dropout_9 (Dropout)         (None, 48, 48, 32)        0         \n",
            "                                                                 \n",
            " conv2d_10 (Conv2D)          (None, 48, 48, 64)        18496     \n",
            "                                                                 \n",
            " dropout_10 (Dropout)        (None, 48, 48, 64)        0         \n",
            "                                                                 \n",
            " conv2d_11 (Conv2D)          (None, 48, 48, 64)        36928     \n",
            "                                                                 \n",
            " dropout_11 (Dropout)        (None, 48, 48, 64)        0         \n",
            "                                                                 \n",
            " max_pooling2d_3 (MaxPooling  (None, 24, 24, 64)       0         \n",
            " 2D)                                                             \n",
            "                                                                 \n",
            " conv2d_12 (Conv2D)          (None, 24, 24, 64)        36928     \n",
            "                                                                 \n",
            " dropout_12 (Dropout)        (None, 24, 24, 64)        0         \n",
            "                                                                 \n",
            " conv2d_13 (Conv2D)          (None, 24, 24, 128)       73856     \n",
            "                                                                 \n",
            " dropout_13 (Dropout)        (None, 24, 24, 128)       0         \n",
            "                                                                 \n",
            " conv2d_14 (Conv2D)          (None, 24, 24, 128)       147584    \n",
            "                                                                 \n",
            " dropout_14 (Dropout)        (None, 24, 24, 128)       0         \n",
            "                                                                 \n",
            " max_pooling2d_4 (MaxPooling  (None, 12, 12, 128)      0         \n",
            " 2D)                                                             \n",
            "                                                                 \n",
            " conv2d_15 (Conv2D)          (None, 12, 12, 128)       147584    \n",
            "                                                                 \n",
            " dropout_15 (Dropout)        (None, 12, 12, 128)       0         \n",
            "                                                                 \n",
            " conv2d_16 (Conv2D)          (None, 12, 12, 256)       295168    \n",
            "                                                                 \n",
            " dropout_16 (Dropout)        (None, 12, 12, 256)       0         \n",
            "                                                                 \n",
            " conv2d_17 (Conv2D)          (None, 12, 12, 256)       590080    \n",
            "                                                                 \n",
            " dropout_17 (Dropout)        (None, 12, 12, 256)       0         \n",
            "                                                                 \n",
            " max_pooling2d_5 (MaxPooling  (None, 6, 6, 256)        0         \n",
            " 2D)                                                             \n",
            "                                                                 \n",
            " flatten_1 (Flatten)         (None, 9216)              0         \n",
            "                                                                 \n",
            " dense_4 (Dense)             (None, 256)               2359552   \n",
            "                                                                 \n",
            " dense_5 (Dense)             (None, 128)               32896     \n",
            "                                                                 \n",
            " dense_6 (Dense)             (None, 64)                8256      \n",
            "                                                                 \n",
            " dense_7 (Dense)             (None, 7)                 455       \n",
            "                                                                 \n",
            "=================================================================\n",
            "Total params: 3,748,103\n",
            "Trainable params: 3,748,103\n",
            "Non-trainable params: 0\n",
            "_________________________________________________________________\n"
          ]
        }
      ]
    },
    {
      "cell_type": "code",
      "source": [
        "Batch_Size = 512\n",
        "Num_of_Epoch = 80\n",
        "Learning_Rate = 1e-3\n",
        "\n",
        "# 最佳化器\n",
        "Optimizer_Adam = tf.keras.optimizers.Adam(learning_rate=Learning_Rate)\n",
        "\n",
        "# 損失函數\n",
        "Loss_Function = tf.keras.losses.SparseCategoricalCrossentropy()\n",
        "\n",
        "# 編譯模型\n",
        "CNN_model.compile(\n",
        "    loss=Loss_Function, \n",
        "    optimizer=Optimizer_Adam, \n",
        "    metrics=['accuracy']\n",
        ")\n",
        "\n",
        "# 學習率排程器(Learning Rate Scheduler\n",
        "def scheduler(epoch, lr):\n",
        "  if epoch < 20:     \n",
        "    return lr\n",
        "  else:\n",
        "    return lr * tf.math.exp(-0.1)\n",
        "\n",
        "callback = tf.keras.callbacks.LearningRateScheduler(scheduler)"
      ],
      "metadata": {
        "id": "J94fxlauEMtO"
      },
      "execution_count": 135,
      "outputs": []
    },
    {
      "cell_type": "code",
      "source": [
        "History = CNN_model.fit(\n",
        "    x = train_x,\n",
        "    y = train_y,\n",
        "    validation_data = (vali_x, vali_y),\n",
        "    batch_size = Batch_Size,\n",
        "    epochs = Num_of_Epoch,\n",
        "    callbacks=[callback]\n",
        ")"
      ],
      "metadata": {
        "colab": {
          "base_uri": "https://localhost:8080/"
        },
        "id": "FV7FPFsKEQYb",
        "outputId": "fc53f41d-e998-4d6d-c85d-f22dbeea8e36"
      },
      "execution_count": 136,
      "outputs": [
        {
          "output_type": "stream",
          "name": "stdout",
          "text": [
            "Epoch 1/80\n",
            "57/57 [==============================] - 13s 198ms/step - loss: 0.3957 - accuracy: 0.8564 - val_loss: 0.2359 - val_accuracy: 0.9437 - lr: 0.0010\n",
            "Epoch 2/80\n",
            "57/57 [==============================] - 11s 192ms/step - loss: 0.3794 - accuracy: 0.8601 - val_loss: 0.2427 - val_accuracy: 0.9345 - lr: 0.0010\n",
            "Epoch 3/80\n",
            "57/57 [==============================] - 11s 192ms/step - loss: 0.3533 - accuracy: 0.8715 - val_loss: 0.2252 - val_accuracy: 0.9464 - lr: 0.0010\n",
            "Epoch 4/80\n",
            "57/57 [==============================] - 11s 192ms/step - loss: 0.3523 - accuracy: 0.8727 - val_loss: 0.2011 - val_accuracy: 0.9500 - lr: 0.0010\n",
            "Epoch 5/80\n",
            "57/57 [==============================] - 11s 192ms/step - loss: 0.3536 - accuracy: 0.8739 - val_loss: 0.1861 - val_accuracy: 0.9596 - lr: 0.0010\n",
            "Epoch 6/80\n",
            "57/57 [==============================] - 11s 192ms/step - loss: 0.3390 - accuracy: 0.8797 - val_loss: 0.1594 - val_accuracy: 0.9650 - lr: 0.0010\n",
            "Epoch 7/80\n",
            "57/57 [==============================] - 11s 192ms/step - loss: 0.3100 - accuracy: 0.8875 - val_loss: 0.1443 - val_accuracy: 0.9664 - lr: 0.0010\n",
            "Epoch 8/80\n",
            "57/57 [==============================] - 11s 192ms/step - loss: 0.3184 - accuracy: 0.8857 - val_loss: 0.1594 - val_accuracy: 0.9554 - lr: 0.0010\n",
            "Epoch 9/80\n",
            "57/57 [==============================] - 11s 192ms/step - loss: 0.3043 - accuracy: 0.8900 - val_loss: 0.1334 - val_accuracy: 0.9700 - lr: 0.0010\n",
            "Epoch 10/80\n",
            "57/57 [==============================] - 11s 194ms/step - loss: 0.2693 - accuracy: 0.9031 - val_loss: 0.1241 - val_accuracy: 0.9758 - lr: 0.0010\n",
            "Epoch 11/80\n",
            "57/57 [==============================] - 11s 192ms/step - loss: 0.2545 - accuracy: 0.9085 - val_loss: 0.1143 - val_accuracy: 0.9792 - lr: 0.0010\n",
            "Epoch 12/80\n",
            "57/57 [==============================] - 11s 192ms/step - loss: 0.2576 - accuracy: 0.9062 - val_loss: 0.1155 - val_accuracy: 0.9792 - lr: 0.0010\n",
            "Epoch 13/80\n",
            "57/57 [==============================] - 11s 192ms/step - loss: 0.2316 - accuracy: 0.9173 - val_loss: 0.0946 - val_accuracy: 0.9802 - lr: 0.0010\n",
            "Epoch 14/80\n",
            "57/57 [==============================] - 11s 192ms/step - loss: 0.2647 - accuracy: 0.9052 - val_loss: 0.0991 - val_accuracy: 0.9824 - lr: 0.0010\n",
            "Epoch 15/80\n",
            "57/57 [==============================] - 11s 192ms/step - loss: 0.2500 - accuracy: 0.9100 - val_loss: 0.1034 - val_accuracy: 0.9783 - lr: 0.0010\n",
            "Epoch 16/80\n",
            "57/57 [==============================] - 11s 192ms/step - loss: 0.2275 - accuracy: 0.9188 - val_loss: 0.0954 - val_accuracy: 0.9866 - lr: 0.0010\n",
            "Epoch 17/80\n",
            "57/57 [==============================] - 11s 192ms/step - loss: 0.2315 - accuracy: 0.9184 - val_loss: 0.0977 - val_accuracy: 0.9837 - lr: 0.0010\n",
            "Epoch 18/80\n",
            "57/57 [==============================] - 11s 192ms/step - loss: 0.2033 - accuracy: 0.9289 - val_loss: 0.0804 - val_accuracy: 0.9880 - lr: 0.0010\n",
            "Epoch 19/80\n",
            "57/57 [==============================] - 11s 192ms/step - loss: 0.2048 - accuracy: 0.9282 - val_loss: 0.0682 - val_accuracy: 0.9869 - lr: 0.0010\n",
            "Epoch 20/80\n",
            "57/57 [==============================] - 11s 192ms/step - loss: 0.1944 - accuracy: 0.9313 - val_loss: 0.0798 - val_accuracy: 0.9840 - lr: 0.0010\n",
            "Epoch 21/80\n",
            "57/57 [==============================] - 11s 193ms/step - loss: 0.2201 - accuracy: 0.9223 - val_loss: 0.0597 - val_accuracy: 0.9898 - lr: 9.0484e-04\n",
            "Epoch 22/80\n",
            "57/57 [==============================] - 11s 192ms/step - loss: 0.1814 - accuracy: 0.9352 - val_loss: 0.0498 - val_accuracy: 0.9912 - lr: 8.1873e-04\n",
            "Epoch 23/80\n",
            "57/57 [==============================] - 11s 192ms/step - loss: 0.1582 - accuracy: 0.9441 - val_loss: 0.0484 - val_accuracy: 0.9929 - lr: 7.4082e-04\n",
            "Epoch 24/80\n",
            "57/57 [==============================] - 11s 192ms/step - loss: 0.1419 - accuracy: 0.9510 - val_loss: 0.0429 - val_accuracy: 0.9933 - lr: 6.7032e-04\n",
            "Epoch 25/80\n",
            "57/57 [==============================] - 11s 192ms/step - loss: 0.1310 - accuracy: 0.9549 - val_loss: 0.0365 - val_accuracy: 0.9935 - lr: 6.0653e-04\n",
            "Epoch 26/80\n",
            "57/57 [==============================] - 11s 192ms/step - loss: 0.1301 - accuracy: 0.9545 - val_loss: 0.0311 - val_accuracy: 0.9964 - lr: 5.4881e-04\n",
            "Epoch 27/80\n",
            "57/57 [==============================] - 12s 204ms/step - loss: 0.1087 - accuracy: 0.9619 - val_loss: 0.0233 - val_accuracy: 0.9971 - lr: 4.9659e-04\n",
            "Epoch 28/80\n",
            "57/57 [==============================] - 11s 192ms/step - loss: 0.0936 - accuracy: 0.9678 - val_loss: 0.0195 - val_accuracy: 0.9971 - lr: 4.4933e-04\n",
            "Epoch 29/80\n",
            "57/57 [==============================] - 11s 192ms/step - loss: 0.0948 - accuracy: 0.9672 - val_loss: 0.0180 - val_accuracy: 0.9978 - lr: 4.0657e-04\n",
            "Epoch 30/80\n",
            "57/57 [==============================] - 11s 192ms/step - loss: 0.0884 - accuracy: 0.9695 - val_loss: 0.0194 - val_accuracy: 0.9974 - lr: 3.6788e-04\n",
            "Epoch 31/80\n",
            "57/57 [==============================] - 11s 192ms/step - loss: 0.0837 - accuracy: 0.9714 - val_loss: 0.0163 - val_accuracy: 0.9974 - lr: 3.3287e-04\n",
            "Epoch 32/80\n",
            "57/57 [==============================] - 11s 193ms/step - loss: 0.0820 - accuracy: 0.9722 - val_loss: 0.0142 - val_accuracy: 0.9979 - lr: 3.0119e-04\n",
            "Epoch 33/80\n",
            "57/57 [==============================] - 11s 192ms/step - loss: 0.0742 - accuracy: 0.9747 - val_loss: 0.0149 - val_accuracy: 0.9974 - lr: 2.7253e-04\n",
            "Epoch 34/80\n",
            "57/57 [==============================] - 11s 192ms/step - loss: 0.0699 - accuracy: 0.9760 - val_loss: 0.0132 - val_accuracy: 0.9971 - lr: 2.4660e-04\n",
            "Epoch 35/80\n",
            "57/57 [==============================] - 11s 192ms/step - loss: 0.0612 - accuracy: 0.9792 - val_loss: 0.0112 - val_accuracy: 0.9980 - lr: 2.2313e-04\n",
            "Epoch 36/80\n",
            "57/57 [==============================] - 11s 192ms/step - loss: 0.0609 - accuracy: 0.9797 - val_loss: 0.0104 - val_accuracy: 0.9979 - lr: 2.0190e-04\n",
            "Epoch 37/80\n",
            "57/57 [==============================] - 11s 192ms/step - loss: 0.0640 - accuracy: 0.9788 - val_loss: 0.0119 - val_accuracy: 0.9983 - lr: 1.8268e-04\n",
            "Epoch 38/80\n",
            "57/57 [==============================] - 11s 192ms/step - loss: 0.0622 - accuracy: 0.9791 - val_loss: 0.0105 - val_accuracy: 0.9979 - lr: 1.6530e-04\n",
            "Epoch 39/80\n",
            "57/57 [==============================] - 11s 192ms/step - loss: 0.0596 - accuracy: 0.9800 - val_loss: 0.0104 - val_accuracy: 0.9980 - lr: 1.4957e-04\n",
            "Epoch 40/80\n",
            "57/57 [==============================] - 11s 192ms/step - loss: 0.0551 - accuracy: 0.9814 - val_loss: 0.0103 - val_accuracy: 0.9976 - lr: 1.3534e-04\n",
            "Epoch 41/80\n",
            "57/57 [==============================] - 11s 192ms/step - loss: 0.0635 - accuracy: 0.9789 - val_loss: 0.0090 - val_accuracy: 0.9980 - lr: 1.2246e-04\n",
            "Epoch 42/80\n",
            "57/57 [==============================] - 11s 192ms/step - loss: 0.0527 - accuracy: 0.9821 - val_loss: 0.0086 - val_accuracy: 0.9980 - lr: 1.1080e-04\n",
            "Epoch 43/80\n",
            "57/57 [==============================] - 11s 194ms/step - loss: 0.0529 - accuracy: 0.9820 - val_loss: 0.0088 - val_accuracy: 0.9982 - lr: 1.0026e-04\n",
            "Epoch 44/80\n",
            "57/57 [==============================] - 11s 192ms/step - loss: 0.0495 - accuracy: 0.9822 - val_loss: 0.0086 - val_accuracy: 0.9978 - lr: 9.0718e-05\n",
            "Epoch 45/80\n",
            "57/57 [==============================] - 11s 192ms/step - loss: 0.0498 - accuracy: 0.9829 - val_loss: 0.0082 - val_accuracy: 0.9982 - lr: 8.2085e-05\n",
            "Epoch 46/80\n",
            "57/57 [==============================] - 11s 192ms/step - loss: 0.0470 - accuracy: 0.9837 - val_loss: 0.0078 - val_accuracy: 0.9980 - lr: 7.4273e-05\n",
            "Epoch 47/80\n",
            "57/57 [==============================] - 11s 193ms/step - loss: 0.0496 - accuracy: 0.9837 - val_loss: 0.0075 - val_accuracy: 0.9983 - lr: 6.7205e-05\n",
            "Epoch 48/80\n",
            "57/57 [==============================] - 11s 192ms/step - loss: 0.0466 - accuracy: 0.9840 - val_loss: 0.0074 - val_accuracy: 0.9979 - lr: 6.0810e-05\n",
            "Epoch 49/80\n",
            "57/57 [==============================] - 11s 193ms/step - loss: 0.0442 - accuracy: 0.9851 - val_loss: 0.0075 - val_accuracy: 0.9982 - lr: 5.5023e-05\n",
            "Epoch 50/80\n",
            "57/57 [==============================] - 11s 192ms/step - loss: 0.0435 - accuracy: 0.9860 - val_loss: 0.0075 - val_accuracy: 0.9980 - lr: 4.9787e-05\n",
            "Epoch 51/80\n",
            "57/57 [==============================] - 11s 192ms/step - loss: 0.0404 - accuracy: 0.9857 - val_loss: 0.0074 - val_accuracy: 0.9985 - lr: 4.5049e-05\n",
            "Epoch 52/80\n",
            "57/57 [==============================] - 11s 193ms/step - loss: 0.0438 - accuracy: 0.9859 - val_loss: 0.0068 - val_accuracy: 0.9979 - lr: 4.0762e-05\n",
            "Epoch 53/80\n",
            "57/57 [==============================] - 11s 192ms/step - loss: 0.0444 - accuracy: 0.9849 - val_loss: 0.0068 - val_accuracy: 0.9983 - lr: 3.6883e-05\n",
            "Epoch 54/80\n",
            "57/57 [==============================] - 11s 192ms/step - loss: 0.0453 - accuracy: 0.9846 - val_loss: 0.0066 - val_accuracy: 0.9985 - lr: 3.3373e-05\n",
            "Epoch 55/80\n",
            "57/57 [==============================] - 11s 194ms/step - loss: 0.0441 - accuracy: 0.9850 - val_loss: 0.0066 - val_accuracy: 0.9985 - lr: 3.0197e-05\n",
            "Epoch 56/80\n",
            "57/57 [==============================] - 11s 192ms/step - loss: 0.0401 - accuracy: 0.9873 - val_loss: 0.0069 - val_accuracy: 0.9978 - lr: 2.7324e-05\n",
            "Epoch 57/80\n",
            "57/57 [==============================] - 11s 192ms/step - loss: 0.0433 - accuracy: 0.9856 - val_loss: 0.0064 - val_accuracy: 0.9980 - lr: 2.4723e-05\n",
            "Epoch 58/80\n",
            "57/57 [==============================] - 11s 192ms/step - loss: 0.0425 - accuracy: 0.9855 - val_loss: 0.0066 - val_accuracy: 0.9978 - lr: 2.2371e-05\n",
            "Epoch 59/80\n",
            "57/57 [==============================] - 11s 192ms/step - loss: 0.0459 - accuracy: 0.9845 - val_loss: 0.0067 - val_accuracy: 0.9982 - lr: 2.0242e-05\n",
            "Epoch 60/80\n",
            "57/57 [==============================] - 11s 192ms/step - loss: 0.0409 - accuracy: 0.9855 - val_loss: 0.0066 - val_accuracy: 0.9982 - lr: 1.8316e-05\n",
            "Epoch 61/80\n",
            "57/57 [==============================] - 11s 192ms/step - loss: 0.0412 - accuracy: 0.9863 - val_loss: 0.0067 - val_accuracy: 0.9980 - lr: 1.6573e-05\n",
            "Epoch 62/80\n",
            "57/57 [==============================] - 11s 192ms/step - loss: 0.0400 - accuracy: 0.9863 - val_loss: 0.0065 - val_accuracy: 0.9982 - lr: 1.4996e-05\n",
            "Epoch 63/80\n",
            "57/57 [==============================] - 11s 192ms/step - loss: 0.0403 - accuracy: 0.9865 - val_loss: 0.0066 - val_accuracy: 0.9982 - lr: 1.3569e-05\n",
            "Epoch 64/80\n",
            "57/57 [==============================] - 11s 192ms/step - loss: 0.0423 - accuracy: 0.9856 - val_loss: 0.0065 - val_accuracy: 0.9980 - lr: 1.2277e-05\n",
            "Epoch 65/80\n",
            "57/57 [==============================] - 11s 193ms/step - loss: 0.0376 - accuracy: 0.9878 - val_loss: 0.0065 - val_accuracy: 0.9978 - lr: 1.1109e-05\n",
            "Epoch 66/80\n",
            "57/57 [==============================] - 11s 194ms/step - loss: 0.0438 - accuracy: 0.9859 - val_loss: 0.0065 - val_accuracy: 0.9978 - lr: 1.0052e-05\n",
            "Epoch 67/80\n",
            "57/57 [==============================] - 11s 192ms/step - loss: 0.0400 - accuracy: 0.9864 - val_loss: 0.0065 - val_accuracy: 0.9979 - lr: 9.0953e-06\n",
            "Epoch 68/80\n",
            "57/57 [==============================] - 11s 192ms/step - loss: 0.0405 - accuracy: 0.9860 - val_loss: 0.0065 - val_accuracy: 0.9979 - lr: 8.2297e-06\n",
            "Epoch 69/80\n",
            "57/57 [==============================] - 11s 192ms/step - loss: 0.0382 - accuracy: 0.9869 - val_loss: 0.0065 - val_accuracy: 0.9980 - lr: 7.4466e-06\n",
            "Epoch 70/80\n",
            "57/57 [==============================] - 11s 193ms/step - loss: 0.0442 - accuracy: 0.9849 - val_loss: 0.0065 - val_accuracy: 0.9979 - lr: 6.7379e-06\n",
            "Epoch 71/80\n",
            "57/57 [==============================] - 11s 193ms/step - loss: 0.0400 - accuracy: 0.9865 - val_loss: 0.0065 - val_accuracy: 0.9980 - lr: 6.0967e-06\n",
            "Epoch 72/80\n",
            "57/57 [==============================] - 11s 192ms/step - loss: 0.0392 - accuracy: 0.9872 - val_loss: 0.0065 - val_accuracy: 0.9979 - lr: 5.5165e-06\n",
            "Epoch 73/80\n",
            "57/57 [==============================] - 11s 193ms/step - loss: 0.0394 - accuracy: 0.9858 - val_loss: 0.0065 - val_accuracy: 0.9979 - lr: 4.9916e-06\n",
            "Epoch 74/80\n",
            "57/57 [==============================] - 11s 192ms/step - loss: 0.0404 - accuracy: 0.9858 - val_loss: 0.0065 - val_accuracy: 0.9978 - lr: 4.5166e-06\n",
            "Epoch 75/80\n",
            "57/57 [==============================] - 11s 193ms/step - loss: 0.0391 - accuracy: 0.9863 - val_loss: 0.0065 - val_accuracy: 0.9978 - lr: 4.0868e-06\n",
            "Epoch 76/80\n",
            "57/57 [==============================] - 12s 204ms/step - loss: 0.0407 - accuracy: 0.9862 - val_loss: 0.0065 - val_accuracy: 0.9978 - lr: 3.6979e-06\n",
            "Epoch 77/80\n",
            "57/57 [==============================] - 11s 194ms/step - loss: 0.0412 - accuracy: 0.9864 - val_loss: 0.0065 - val_accuracy: 0.9978 - lr: 3.3460e-06\n",
            "Epoch 78/80\n",
            "57/57 [==============================] - 11s 192ms/step - loss: 0.0386 - accuracy: 0.9869 - val_loss: 0.0065 - val_accuracy: 0.9978 - lr: 3.0275e-06\n",
            "Epoch 79/80\n",
            "57/57 [==============================] - 11s 192ms/step - loss: 0.0385 - accuracy: 0.9860 - val_loss: 0.0065 - val_accuracy: 0.9979 - lr: 2.7394e-06\n",
            "Epoch 80/80\n",
            "57/57 [==============================] - 11s 192ms/step - loss: 0.0394 - accuracy: 0.9875 - val_loss: 0.0065 - val_accuracy: 0.9978 - lr: 2.4787e-06\n"
          ]
        }
      ]
    },
    {
      "cell_type": "code",
      "source": [
        "loss = History.history[\"loss\"]\n",
        "accuracy = History.history[\"accuracy\"]\n",
        "val_loss = History.history[\"val_loss\"]\n",
        "val_accuracy = History.history[\"val_accuracy\"]"
      ],
      "metadata": {
        "id": "IAWz08jPEQWT"
      },
      "execution_count": 137,
      "outputs": []
    },
    {
      "cell_type": "code",
      "source": [
        "# loss\n",
        "plt.figure(figsize=(10,6))\n",
        "plt.plot(loss, label=\"train loss\")\n",
        "plt.plot(val_loss, label=\"val loss\")\n",
        "plt.title(\"Loss\", fontsize=20)\n",
        "plt.xlabel(\"epoch\", fontsize=16)\n",
        "plt.ylabel(\"loss\", fontsize=16)\n",
        "plt.show()"
      ],
      "metadata": {
        "colab": {
          "base_uri": "https://localhost:8080/",
          "height": 414
        },
        "id": "ZZnTfqk2EQTz",
        "outputId": "8d535541-36d4-43b8-800c-ce2b38e1edbf"
      },
      "execution_count": 138,
      "outputs": [
        {
          "output_type": "display_data",
          "data": {
            "text/plain": [
              "<Figure size 720x432 with 1 Axes>"
            ],
            "image/png": "[encoded data removed]"
          },
          "metadata": {
            "needs_background": "light"
          }
        }
      ]
    },
    {
      "cell_type": "code",
      "source": [
        "# accuracy\n",
        "plt.figure(figsize=(10,6))\n",
        "plt.plot(accuracy, label=\"train acc\")\n",
        "plt.plot(val_accuracy, label=\"val acc\")\n",
        "plt.title(\"Accuracy\", fontsize=20)\n",
        "plt.xlabel(\"epoch\", fontsize=16)\n",
        "plt.ylabel(\"accuracy\", fontsize=16)\n",
        "plt.show()"
      ],
      "metadata": {
        "colab": {
          "base_uri": "https://localhost:8080/",
          "height": 414
        },
        "id": "COqhNWnyEQRd",
        "outputId": "871eaecd-a8b0-4bf5-f9f4-05fc6d90c65a"
      },
      "execution_count": 139,
      "outputs": [
        {
          "output_type": "display_data",
          "data": {
            "text/plain": [
              "<Figure size 720x432 with 1 Axes>"
            ],
            "image/png": "[encoded data removed]"
          },
          "metadata": {
            "needs_background": "light"
          }
        }
      ]
    },
    {
      "cell_type": "code",
      "source": [
        "CNN_model.save('trained_model', save_format='tf')"
      ],
      "metadata": {
        "colab": {
          "base_uri": "https://localhost:8080/"
        },
        "id": "LblNPfNBEQO0",
        "outputId": "b3816de5-3d5c-4e7e-cfaf-1afd25f2797d"
      },
      "execution_count": 140,
      "outputs": [
        {
          "output_type": "stream",
          "name": "stdout",
          "text": [
            "INFO:tensorflow:Assets written to: trained_model/assets\n"
          ]
        },
        {
          "output_type": "stream",
          "name": "stderr",
          "text": [
            "INFO:tensorflow:Assets written to: trained_model/assets\n"
          ]
        }
      ]
    },
    {
      "cell_type": "code",
      "source": [
        "!zip -r trained_model.zip trained_model/\n",
        "!cp trained_model.zip drive/MyDrive/kaggle"
      ],
      "metadata": {
        "colab": {
          "base_uri": "https://localhost:8080/"
        },
        "id": "Nn2c9FKNEQMM",
        "outputId": "2eaa93d3-bde5-4e46-fecd-6a7e10b9d002"
      },
      "execution_count": 141,
      "outputs": [
        {
          "output_type": "stream",
          "name": "stdout",
          "text": [
            "updating: trained_model/ (stored 0%)\n",
            "updating: trained_model/assets/ (stored 0%)\n",
            "updating: trained_model/saved_model.pb (deflated 90%)\n",
            "updating: trained_model/keras_metadata.pb (deflated 94%)\n",
            "updating: trained_model/variables/ (stored 0%)\n",
            "updating: trained_model/variables/variables.index (deflated 73%)\n",
            "updating: trained_model/variables/variables.data-00000-of-00001 (deflated 33%)\n"
          ]
        }
      ]
    },
    {
      "cell_type": "code",
      "source": [
        ""
      ],
      "metadata": {
        "id": "gZjs59Z8JkuM"
      },
      "execution_count": 134,
      "outputs": []
    }
  ]
}